{
 "cells": [
  {
   "cell_type": "code",
   "execution_count": 1,
   "metadata": {},
   "outputs": [
    {
     "name": "stdout",
     "output_type": "stream",
     "text": [
      "True\n"
     ]
    }
   ],
   "source": [
    "from sgp4.api import accelerated\n",
    "\n",
    "print(accelerated)"
   ]
  },
  {
   "cell_type": "code",
   "execution_count": 7,
   "metadata": {},
   "outputs": [
    {
     "name": "stdout",
     "output_type": "stream",
     "text": [
      "0\n",
      "(-6088.922358183078, -936.1367482888302, -2866.4408776941464)\n",
      "(-1.5255342771668234, -5.5384966257541395, 5.068164791538606)\n"
     ]
    },
    {
     "name": "stderr",
     "output_type": "stream",
     "text": [
      "C:\\Users\\amren\\AppData\\Local\\Temp\\ipykernel_13868\\1383349734.py:8: FutureWarning: This function is deprecated. See: https://pyproj4.github.io/pyproj/stable/gotchas.html#upgrading-to-pyproj-2-from-pyproj-1\n",
      "  lona, lata, alta = pyproj.transform(\n"
     ]
    },
    {
     "data": {
      "text/plain": [
       "(-171.2595419741592, -90.0, -6353885.873367486)"
      ]
     },
     "execution_count": 7,
     "metadata": {},
     "output_type": "execute_result"
    }
   ],
   "source": [
    "import pyproj\n",
    "from sgp4.api import Satrec\n",
    "\n",
    "\n",
    "def ecef2lla(i, pos_x, pos_y, pos_z):\n",
    "    ecef = pyproj.Proj(proj=\"geocent\", ellps=\"WGS84\", datum=\"WGS84\")\n",
    "    lla = pyproj.Proj(proj=\"latlong\", ellps=\"WGS84\", datum=\"WGS84\")\n",
    "    lona, lata, alta = pyproj.transform(\n",
    "        ecef, lla, pos_x[i], pos_y[i], pos_z[i], radians=False\n",
    "    )\n",
    "    return lona, lata, alta\n",
    "\n",
    "\n",
    "s = \"1 25544U 98067A   19343.69339541  .00001764  00000-0  38792-4 0  9991\"\n",
    "t = \"2 25544  51.6439 211.2001 0007417  17.6667  85.6398 15.50103472202482\"\n",
    "satellite = Satrec.twoline2rv(s, t)\n",
    "\n",
    "jd, fr = 2458826.5, 0.8625\n",
    "e, r, v = satellite.sgp4(jd, fr)\n",
    "print(e)\n",
    "print(r)\n",
    "print(v)\n",
    "\n",
    "ecef2lla(\n",
    "    0,\n",
    "    [\n",
    "        r[0],\n",
    "    ],\n",
    "    [\n",
    "        r[1],\n",
    "    ],\n",
    "    [\n",
    "        r[2],\n",
    "    ],\n",
    ")"
   ]
  },
  {
   "cell_type": "code",
   "execution_count": null,
   "metadata": {},
   "outputs": [],
   "source": []
  }
 ],
 "metadata": {
  "kernelspec": {
   "display_name": "venv",
   "language": "python",
   "name": "python3"
  },
  "language_info": {
   "codemirror_mode": {
    "name": "ipython",
    "version": 3
   },
   "file_extension": ".py",
   "mimetype": "text/x-python",
   "name": "python",
   "nbconvert_exporter": "python",
   "pygments_lexer": "ipython3",
   "version": "3.11.2"
  },
  "orig_nbformat": 4
 },
 "nbformat": 4,
 "nbformat_minor": 2
}
